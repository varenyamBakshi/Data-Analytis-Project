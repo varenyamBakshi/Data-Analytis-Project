{
 "cells": [
  {
   "cell_type": "markdown",
   "metadata": {},
   "source": [
    "# Exploratory Data Analysis Project\n",
    "\n",
    "#### There's a story behind your numbers. Visualizing data brings them to life.\n"
   ]
  },
  {
   "cell_type": "markdown",
   "metadata": {},
   "source": [
    "Visualizing data is effective when done right. We define right when the data visualizations have served its purpose.We know we are on right path when people can interpret our visualization by asking more questions on the information displayed versus how or what is displayed.    \n",
    "Exploratory Data Analysis is one of the techniques to perform data visualization. It refers to the critical process of performing initial investigations on data so as to discover patterns,to spot anomalies,to test hypothesis and to check assumptions with the help of summary statistics and graphical representations.\n",
    "\n",
    "After all the introduction, lets get to work. In this notebook, I will try to apply EDA on the \"motor vehicle theft\" dataset, maintained by the Chicago Police. It records various cases regarding act of stealing, or attempting to steal, a car. I shall try to analyze the data and capture some insights from it, like a detective XD."
   ]
  },
  {
   "cell_type": "markdown",
   "metadata": {},
   "source": [
    "## Setup\n",
    "For the preparations lets first import the necessary libraries and load the files needed for our EDA"
   ]
  },
  {
   "cell_type": "code",
   "execution_count": 1,
   "metadata": {},
   "outputs": [],
   "source": [
    "import pandas as pd\n",
    "from matplotlib import pyplot as plt\n",
    "%matplotlib inline\n",
    "import seaborn as sns\n",
    "import numpy as np"
   ]
  },
  {
   "cell_type": "markdown",
   "metadata": {},
   "source": [
    "Let us now read the `Chicago_Crime_Detective` dataset."
   ]
  },
  {
   "cell_type": "code",
   "execution_count": 79,
   "metadata": {
    "scrolled": true
   },
   "outputs": [
    {
     "name": "stderr",
     "output_type": "stream",
     "text": [
      "/home/uranium/anaconda3/lib/python3.7/site-packages/IPython/core/interactiveshell.py:3063: DtypeWarning: Columns (7,8) have mixed types.Specify dtype option on import or set low_memory=False.\n",
      "  interactivity=interactivity, compiler=compiler, result=result)\n"
     ]
    },
    {
     "data": {
      "text/html": [
       "<div>\n",
       "<style scoped>\n",
       "    .dataframe tbody tr th:only-of-type {\n",
       "        vertical-align: middle;\n",
       "    }\n",
       "\n",
       "    .dataframe tbody tr th {\n",
       "        vertical-align: top;\n",
       "    }\n",
       "\n",
       "    .dataframe thead th {\n",
       "        text-align: right;\n",
       "    }\n",
       "</style>\n",
       "<table border=\"1\" class=\"dataframe\">\n",
       "  <thead>\n",
       "    <tr style=\"text-align: right;\">\n",
       "      <th></th>\n",
       "      <th>ID</th>\n",
       "      <th>Date</th>\n",
       "      <th>LocationDescription</th>\n",
       "      <th>Arrest</th>\n",
       "      <th>Domestic</th>\n",
       "      <th>Beat</th>\n",
       "      <th>District</th>\n",
       "      <th>CommunityArea</th>\n",
       "      <th>Year</th>\n",
       "    </tr>\n",
       "  </thead>\n",
       "  <tbody>\n",
       "    <tr>\n",
       "      <th>0</th>\n",
       "      <td>8951354</td>\n",
       "      <td>12/31/12 23:15</td>\n",
       "      <td>STREET</td>\n",
       "      <td>False</td>\n",
       "      <td>False</td>\n",
       "      <td>623</td>\n",
       "      <td>6</td>\n",
       "      <td>69</td>\n",
       "      <td>2012</td>\n",
       "    </tr>\n",
       "    <tr>\n",
       "      <th>1</th>\n",
       "      <td>8951141</td>\n",
       "      <td>12/31/12 22:00</td>\n",
       "      <td>STREET</td>\n",
       "      <td>False</td>\n",
       "      <td>False</td>\n",
       "      <td>1213</td>\n",
       "      <td>12</td>\n",
       "      <td>24</td>\n",
       "      <td>2012</td>\n",
       "    </tr>\n",
       "    <tr>\n",
       "      <th>2</th>\n",
       "      <td>8952745</td>\n",
       "      <td>12/31/12 22:00</td>\n",
       "      <td>RESIDENTIAL YARD (FRONT/BACK)</td>\n",
       "      <td>False</td>\n",
       "      <td>False</td>\n",
       "      <td>1622</td>\n",
       "      <td>16</td>\n",
       "      <td>11</td>\n",
       "      <td>2012</td>\n",
       "    </tr>\n",
       "    <tr>\n",
       "      <th>3</th>\n",
       "      <td>8952223</td>\n",
       "      <td>12/31/12 22:00</td>\n",
       "      <td>STREET</td>\n",
       "      <td>False</td>\n",
       "      <td>False</td>\n",
       "      <td>724</td>\n",
       "      <td>7</td>\n",
       "      <td>67</td>\n",
       "      <td>2012</td>\n",
       "    </tr>\n",
       "    <tr>\n",
       "      <th>4</th>\n",
       "      <td>8951608</td>\n",
       "      <td>12/31/12 21:30</td>\n",
       "      <td>STREET</td>\n",
       "      <td>False</td>\n",
       "      <td>False</td>\n",
       "      <td>211</td>\n",
       "      <td>2</td>\n",
       "      <td>35</td>\n",
       "      <td>2012</td>\n",
       "    </tr>\n",
       "  </tbody>\n",
       "</table>\n",
       "</div>"
      ],
      "text/plain": [
       "        ID            Date            LocationDescription  Arrest  Domestic  \\\n",
       "0  8951354  12/31/12 23:15                         STREET   False     False   \n",
       "1  8951141  12/31/12 22:00                         STREET   False     False   \n",
       "2  8952745  12/31/12 22:00  RESIDENTIAL YARD (FRONT/BACK)   False     False   \n",
       "3  8952223  12/31/12 22:00                         STREET   False     False   \n",
       "4  8951608  12/31/12 21:30                         STREET   False     False   \n",
       "\n",
       "   Beat District CommunityArea  Year  \n",
       "0   623        6            69  2012  \n",
       "1  1213       12            24  2012  \n",
       "2  1622       16            11  2012  \n",
       "3   724        7            67  2012  \n",
       "4   211        2            35  2012  "
      ]
     },
     "execution_count": 79,
     "metadata": {},
     "output_type": "execute_result"
    }
   ],
   "source": [
    "df = pd.read_csv(\"Chicago_Crime_Detective.csv\", index_col=0)\n",
    "df.head()"
   ]
  },
  {
   "cell_type": "code",
   "execution_count": 3,
   "metadata": {},
   "outputs": [
    {
     "data": {
      "text/plain": [
       "(191641, 9)"
      ]
     },
     "execution_count": 3,
     "metadata": {},
     "output_type": "execute_result"
    }
   ],
   "source": [
    "df.shape"
   ]
  },
  {
   "cell_type": "markdown",
   "metadata": {},
   "source": [
    "This shows multiple datatype for `CommunityArea` and `District` columns. Lets see the datatypes of all the columns."
   ]
  },
  {
   "cell_type": "code",
   "execution_count": 76,
   "metadata": {},
   "outputs": [],
   "source": [
    "#df['District'] = df.District.str.replace('.0','.')"
   ]
  },
  {
   "cell_type": "code",
   "execution_count": 77,
   "metadata": {},
   "outputs": [
    {
     "name": "stdout",
     "output_type": "stream",
     "text": [
      "ID                              int64\n",
      "Date                   datetime64[ns]\n",
      "LocationDescription            object\n",
      "Arrest                           bool\n",
      "Domestic                         bool\n",
      "Beat                            int64\n",
      "District                       object\n",
      "CommunityArea                  object\n",
      "Year                            int64\n",
      "Month                           int64\n",
      "DayOfWeek                       int64\n",
      "dtype: object\n"
     ]
    }
   ],
   "source": [
    "print(df.dtypes)"
   ]
  },
  {
   "cell_type": "markdown",
   "metadata": {},
   "source": [
    "As we can see that both the columns are of `object` type.This is because they have many missing values. Also null values cannot be converted to integers. We shall leave these two columns untouched for now and will revisit them later."
   ]
  },
  {
   "cell_type": "code",
   "execution_count": 80,
   "metadata": {},
   "outputs": [
    {
     "data": {
      "text/plain": [
       "ID                         0\n",
       "Date                       0\n",
       "LocationDescription        0\n",
       "Arrest                     0\n",
       "Domestic                   0\n",
       "Beat                       0\n",
       "District               43052\n",
       "CommunityArea          24603\n",
       "Year                       0\n",
       "dtype: int64"
      ]
     },
     "execution_count": 80,
     "metadata": {},
     "output_type": "execute_result"
    }
   ],
   "source": [
    "df.isna().sum()"
   ]
  },
  {
   "cell_type": "markdown",
   "metadata": {},
   "source": [
    "Before continuing lets have a look at the `Date` column. We shall change its datatype to time stamp. And add columns of `Month` and `DayOfWeek`, which shall be useful in later analysis. Here the indexing will begin from 0, i.e, January will be refered by 0. Same for day of week."
   ]
  },
  {
   "cell_type": "code",
   "execution_count": 71,
   "metadata": {},
   "outputs": [
    {
     "data": {
      "text/html": [
       "<div>\n",
       "<style scoped>\n",
       "    .dataframe tbody tr th:only-of-type {\n",
       "        vertical-align: middle;\n",
       "    }\n",
       "\n",
       "    .dataframe tbody tr th {\n",
       "        vertical-align: top;\n",
       "    }\n",
       "\n",
       "    .dataframe thead th {\n",
       "        text-align: right;\n",
       "    }\n",
       "</style>\n",
       "<table border=\"1\" class=\"dataframe\">\n",
       "  <thead>\n",
       "    <tr style=\"text-align: right;\">\n",
       "      <th></th>\n",
       "      <th>ID</th>\n",
       "      <th>Date</th>\n",
       "      <th>LocationDescription</th>\n",
       "      <th>Arrest</th>\n",
       "      <th>Domestic</th>\n",
       "      <th>Beat</th>\n",
       "      <th>District</th>\n",
       "      <th>CommunityArea</th>\n",
       "      <th>Year</th>\n",
       "      <th>Month</th>\n",
       "      <th>DayOfWeek</th>\n",
       "    </tr>\n",
       "  </thead>\n",
       "  <tbody>\n",
       "    <tr>\n",
       "      <th>0</th>\n",
       "      <td>8951354</td>\n",
       "      <td>2012-12-31 23:15:00</td>\n",
       "      <td>STREET</td>\n",
       "      <td>False</td>\n",
       "      <td>False</td>\n",
       "      <td>623</td>\n",
       "      <td>6</td>\n",
       "      <td>69</td>\n",
       "      <td>2012</td>\n",
       "      <td>12</td>\n",
       "      <td>0</td>\n",
       "    </tr>\n",
       "    <tr>\n",
       "      <th>1</th>\n",
       "      <td>8951141</td>\n",
       "      <td>2012-12-31 22:00:00</td>\n",
       "      <td>STREET</td>\n",
       "      <td>False</td>\n",
       "      <td>False</td>\n",
       "      <td>1213</td>\n",
       "      <td>12</td>\n",
       "      <td>24</td>\n",
       "      <td>2012</td>\n",
       "      <td>12</td>\n",
       "      <td>0</td>\n",
       "    </tr>\n",
       "    <tr>\n",
       "      <th>2</th>\n",
       "      <td>8952745</td>\n",
       "      <td>2012-12-31 22:00:00</td>\n",
       "      <td>RESIDENTIAL YARD (FRONT/BACK)</td>\n",
       "      <td>False</td>\n",
       "      <td>False</td>\n",
       "      <td>1622</td>\n",
       "      <td>16</td>\n",
       "      <td>11</td>\n",
       "      <td>2012</td>\n",
       "      <td>12</td>\n",
       "      <td>0</td>\n",
       "    </tr>\n",
       "    <tr>\n",
       "      <th>3</th>\n",
       "      <td>8952223</td>\n",
       "      <td>2012-12-31 22:00:00</td>\n",
       "      <td>STREET</td>\n",
       "      <td>False</td>\n",
       "      <td>False</td>\n",
       "      <td>724</td>\n",
       "      <td>7</td>\n",
       "      <td>67</td>\n",
       "      <td>2012</td>\n",
       "      <td>12</td>\n",
       "      <td>0</td>\n",
       "    </tr>\n",
       "    <tr>\n",
       "      <th>4</th>\n",
       "      <td>8951608</td>\n",
       "      <td>2012-12-31 21:30:00</td>\n",
       "      <td>STREET</td>\n",
       "      <td>False</td>\n",
       "      <td>False</td>\n",
       "      <td>211</td>\n",
       "      <td>2</td>\n",
       "      <td>35</td>\n",
       "      <td>2012</td>\n",
       "      <td>12</td>\n",
       "      <td>0</td>\n",
       "    </tr>\n",
       "  </tbody>\n",
       "</table>\n",
       "</div>"
      ],
      "text/plain": [
       "        ID                Date            LocationDescription  Arrest  \\\n",
       "0  8951354 2012-12-31 23:15:00                         STREET   False   \n",
       "1  8951141 2012-12-31 22:00:00                         STREET   False   \n",
       "2  8952745 2012-12-31 22:00:00  RESIDENTIAL YARD (FRONT/BACK)   False   \n",
       "3  8952223 2012-12-31 22:00:00                         STREET   False   \n",
       "4  8951608 2012-12-31 21:30:00                         STREET   False   \n",
       "\n",
       "   Domestic  Beat District CommunityArea  Year  Month  DayOfWeek  \n",
       "0     False   623        6            69  2012     12          0  \n",
       "1     False  1213       12            24  2012     12          0  \n",
       "2     False  1622       16            11  2012     12          0  \n",
       "3     False   724        7            67  2012     12          0  \n",
       "4     False   211        2            35  2012     12          0  "
      ]
     },
     "execution_count": 71,
     "metadata": {},
     "output_type": "execute_result"
    }
   ],
   "source": [
    "df['Date'] = pd.to_datetime(df.Date)\n",
    "df['Month'] = df.Date.dt.month\n",
    "df['DayOfWeek'] = df.Date.dt.dayofweek\n",
    "df.head()"
   ]
  },
  {
   "cell_type": "code",
   "execution_count": 72,
   "metadata": {},
   "outputs": [
    {
     "data": {
      "text/plain": [
       "ID                              int64\n",
       "Date                   datetime64[ns]\n",
       "LocationDescription            object\n",
       "Arrest                           bool\n",
       "Domestic                         bool\n",
       "Beat                            int64\n",
       "District                       object\n",
       "CommunityArea                  object\n",
       "Year                            int64\n",
       "Month                           int64\n",
       "DayOfWeek                       int64\n",
       "dtype: object"
      ]
     },
     "execution_count": 72,
     "metadata": {},
     "output_type": "execute_result"
    }
   ],
   "source": [
    "df.dtypes"
   ]
  },
  {
   "cell_type": "markdown",
   "metadata": {},
   "source": [
    "## Segregation of Data\n",
    "\n",
    "The data can be divided into two broad categories. This will make our analysis easier.\n",
    "### Categorical Data\n",
    "Categorical data represents characteristics. Therefore it can represent things like a person’s gender, language etc. Categorical data can also take on numerical values (Example: 1 for female and 0 for male). Note that those numbers don’t have mathematical meaning.\n",
    "### Numerical Data\n",
    "Numerical data is a data type expressed in numbers, rather than natural language description. Sometimes called quantitative data,numerical data is always collected in number form. Numerical data differentiates itself with other number form data types with its ability to carry out arithmetic operations with these numbers.\n"
   ]
  },
  {
   "cell_type": "markdown",
   "metadata": {},
   "source": [
    "## Other Ways for Segregation\n",
    "In our dataset there are as such no columns representing numerical data except the `Date` column. But we can generate numerical data from the table as we dive deeper into the dataset. Rest all columns have categorical data. So there is not much need to segregate the data.\n",
    "But we can divide the columns in the following three categories:\n",
    "### Location Data\n",
    "These columns describe the location of the theft. These include the `LocationDescription`, `Domestic`, `Beat`, `District` and `CommunityArea`.\n",
    "### Time Data\n",
    "These columns describe the time when the theft has occured. These include `Date`, `Year`, `Month` and `DayofWeek`.\n",
    "### Other\n",
    "These include the `ID` and `Arrest` columns which do not come under the above two categories."
   ]
  },
  {
   "cell_type": "markdown",
   "metadata": {},
   "source": [
    "## Location Analysis\n"
   ]
  },
  {
   "cell_type": "code",
   "execution_count": 75,
   "metadata": {},
   "outputs": [
    {
     "data": {
      "text/plain": [
       "(array([0.5, 1.5, 2.5, 3.5, 4.5]), <a list of 5 Text xticklabel objects>)"
      ]
     },
     "execution_count": 75,
     "metadata": {},
     "output_type": "execute_result"
    },
    {
     "data": {
      "image/png": "[encoded data removed]",
      "text/plain": [
       "<Figure size 432x288 with 2 Axes>"
      ]
     },
     "metadata": {},
     "output_type": "display_data"
    }
   ],
   "source": [
    "df_categorical = df.loc[:, ['LocationDescription', 'Domestic', 'Beat', 'District', 'CommunityArea']]\n",
    "sns.heatmap(df_categorical.isnull())\n",
    "plt.xticks(rotation=40)"
   ]
  },
  {
   "cell_type": "code",
   "execution_count": 60,
   "metadata": {},
   "outputs": [
    {
     "data": {
      "text/plain": [
       "LocationDescription     78\n",
       "Domestic                 2\n",
       "Beat                   300\n",
       "District                50\n",
       "CommunityArea          157\n",
       "dtype: int64"
      ]
     },
     "execution_count": 60,
     "metadata": {},
     "output_type": "execute_result"
    }
   ],
   "source": [
    "df_categorical.nunique()\n"
   ]
  },
  {
   "cell_type": "markdown",
   "metadata": {},
   "source": [
    "As we have already seen that the `District` and `CommunityArea` columns hava a lot of missing values. We shall keep that in mind while performing the analysis. \n",
    "Lets now start by answering various question."
   ]
  },
  {
   "cell_type": "markdown",
   "metadata": {},
   "source": [
    "### Which locations had the maximum number of thefts?"
   ]
  },
  {
   "cell_type": "code",
   "execution_count": 61,
   "metadata": {},
   "outputs": [
    {
     "data": {
      "text/plain": [
       "<matplotlib.axes._subplots.AxesSubplot at 0x7f7a71d8fcf8>"
      ]
     },
     "execution_count": 61,
     "metadata": {},
     "output_type": "execute_result"
    },
    {
     "data": {
      "image/png": "[encoded data removed]",
      "text/plain": [
       "<Figure size 864x432 with 1 Axes>"
      ]
     },
     "metadata": {},
     "output_type": "display_data"
    }
   ],
   "source": [
    "\n",
    "top_loc = df_categorical.LocationDescription.value_counts().drop(labels='OTHER').head(5)\n",
    "plt.figure(figsize=(12,6))\n",
    "sns.barplot(y=top_loc.index, x=top_loc.values, color=\"b\")"
   ]
  },
  {
   "cell_type": "markdown",
   "metadata": {},
   "source": [
    "As we can see the streets are far ahead in number of theft cases than any other location. Let us now compare the number of cases occuring on street with all other locations combined. We can see in the below plot that the number of thefts on streets greatly outnumber the number of thefts occurring elsewhere."
   ]
  },
  {
   "cell_type": "code",
   "execution_count": 62,
   "metadata": {},
   "outputs": [
    {
     "data": {
      "image/png": "[encoded data removed]",
      "text/plain": [
       "<Figure size 1008x108 with 1 Axes>"
      ]
     },
     "metadata": {},
     "output_type": "display_data"
    }
   ],
   "source": [
    "total=df_categorical.LocationDescription.count()\n",
    "y1 = df_categorical[df_categorical.LocationDescription =='STREET'].LocationDescription.count()\n",
    "y2 = df_categorical.shape[0]-int(y1)\n",
    "[y1, y2]=map(lambda x: x/total*100,[y1,y2])\n",
    "plt.figure(figsize=(14,1.5))\n",
    "plt.barh([0], y1, color='#b5ffb9', edgecolor='white')\n",
    "plt.barh([0], y2, color='#f9bc86', left=y1, edgecolor='white')\n",
    "plt.legend(['Street', 'Other Locations'], loc='lower center', bbox_to_anchor=(0.5,-0.7))\n",
    "# Turn off tick labels\n",
    "plt.yticks([])\n",
    "plt.show()"
   ]
  },
  {
   "cell_type": "markdown",
   "metadata": {},
   "source": [
    "### What is District wise distribution of thefts?"
   ]
  },
  {
   "cell_type": "code",
   "execution_count": 67,
   "metadata": {},
   "outputs": [
    {
     "data": {
      "text/plain": [
       "191601    NaN\n",
       "191602    NaN\n",
       "191603    NaN\n",
       "191604    NaN\n",
       "191605      8\n",
       "191606    NaN\n",
       "191607    NaN\n",
       "191608    NaN\n",
       "191609    NaN\n",
       "191610    NaN\n",
       "191611    NaN\n",
       "191612    NaN\n",
       "191613    NaN\n",
       "191614    NaN\n",
       "191615    NaN\n",
       "191616    NaN\n",
       "191617    NaN\n",
       "191618    NaN\n",
       "191619    NaN\n",
       "191620    NaN\n",
       "191621    NaN\n",
       "191622    NaN\n",
       "191623    NaN\n",
       "191624    NaN\n",
       "191625    NaN\n",
       "191626    NaN\n",
       "191627    NaN\n",
       "191628    NaN\n",
       "191629    NaN\n",
       "191630    NaN\n",
       "191631    NaN\n",
       "191632    NaN\n",
       "191633    NaN\n",
       "191634    NaN\n",
       "191635    NaN\n",
       "191636    NaN\n",
       "191637    NaN\n",
       "191638    NaN\n",
       "191639    NaN\n",
       "191640    NaN\n",
       "Name: District, dtype: object"
      ]
     },
     "execution_count": 67,
     "metadata": {},
     "output_type": "execute_result"
    }
   ],
   "source": [
    "df_categorical.District.tail(40)"
   ]
  },
  {
   "cell_type": "code",
   "execution_count": 64,
   "metadata": {},
   "outputs": [
    {
     "data": {
      "image/png": "[encoded data removed]",
      "text/plain": [
       "<Figure size 864x288 with 1 Axes>"
      ]
     },
     "metadata": {},
     "output_type": "display_data"
    },
    {
     "data": {
      "image/png": "[encoded data removed]",
      "text/plain": [
       "<Figure size 1152x288 with 1 Axes>"
      ]
     },
     "metadata": {},
     "output_type": "display_data"
    }
   ],
   "source": [
    "#District wise distribution of cases\n",
    "districts = df_categorical.District.dropna().value_counts()\n",
    "#districts.drop(labels=' ', inplace=True)\n",
    "#districts.index = [int(x) for x in districts.index.to_list()]\n",
    "plt.figure(figsize=(12,4))\n",
    "sns.barplot(y=districts.values , x=districts.index, color='g')\n",
    "plt.xlabel(\"District\")\n",
    "#Community Area wise distribution of cases\n",
    "comarea = df_categorical.CommunityArea.dropna().value_counts()\n",
    "comarea.drop(labels=' ', inplace=True)\n",
    "comarea.index = [int(x) for x in comarea.index.to_list()]\n",
    "plt.figure(figsize=(16,4))\n",
    "sns.barplot(y=comarea.values , x=comarea.index, color='g')\n",
    "plt.xticks(rotation=90)\n",
    "plt.xlabel(\"Community Area\")\n",
    "plt.show()"
   ]
  },
  {
   "cell_type": "markdown",
   "metadata": {},
   "source": [
    "As we can see that there were huge number of thefts reported in districts 8 and 25. These were the most unsafe place in the time period covered in this dataset. Also districts 21 and 23 were most safe places with negligible number of cases. The districts missing from the plot are the ones whose data was not available.\n",
    "\n",
    "Also Community Area 25 has the highest number of reported cases."
   ]
  },
  {
   "cell_type": "markdown",
   "metadata": {},
   "source": [
    "### What was the proportion of domestic thefts?"
   ]
  },
  {
   "cell_type": "code",
   "execution_count": 13,
   "metadata": {},
   "outputs": [
    {
     "data": {
      "text/plain": [
       "False    99.783449\n",
       "True      0.216551\n",
       "Name: Domestic, dtype: float64"
      ]
     },
     "execution_count": 13,
     "metadata": {},
     "output_type": "execute_result"
    }
   ],
   "source": [
    "tot = df_categorical.Domestic.count()\n",
    "domestic_num = df_categorical.Domestic.value_counts()\n",
    "domestic_num/tot*100"
   ]
  },
  {
   "cell_type": "markdown",
   "metadata": {},
   "source": [
    "As we can see that only 0.2% of all the cases were domestic ones. Now lets see their distribution Community area wise. This means that motor vehicles are not stolen from homes. Since this comprises such a low proportion of all the cases, we shall not do further analysis on it."
   ]
  },
  {
   "cell_type": "markdown",
   "metadata": {},
   "source": [
    "### What was region wise trend of people being arrested for such thefts?"
   ]
  },
  {
   "cell_type": "code",
   "execution_count": 14,
   "metadata": {},
   "outputs": [
    {
     "data": {
      "image/png": "[encoded data removed]",
      "text/plain": [
       "<Figure size 1008x108 with 1 Axes>"
      ]
     },
     "metadata": {
      "needs_background": "light"
     },
     "output_type": "display_data"
    }
   ],
   "source": [
    "total=df.Arrest.count()\n",
    "y1 = df.Arrest.sum()\n",
    "y2 = total-int(y1)\n",
    "[y2, y1]=map(lambda x: x/total*100,[y1,y2])\n",
    "plt.figure(figsize=(14,1.5))\n",
    "plt.barh([0], y1, color='#b5ffb9', edgecolor='white')\n",
    "plt.barh([0], y2, color='#f9bc86', left=y1, edgecolor='white')\n",
    "plt.legend(['None Arrested', 'Someone Arrested'], loc='lower center', bbox_to_anchor=(0.5,-0.7))\n",
    "# Turn off tick labels\n",
    "plt.xticks(range(0,101,10))\n",
    "plt.yticks([])\n",
    "plt.show()"
   ]
  },
  {
   "cell_type": "markdown",
   "metadata": {},
   "source": [
    "So in more than 90% of cases no one was arrested by the police. This is very bad for the police and shows how unsafe the place is. Lets see this Beat-wise. Beat is the smallest geographical region recognized by the Chicago police."
   ]
  },
  {
   "cell_type": "code",
   "execution_count": 49,
   "metadata": {},
   "outputs": [
    {
     "data": {
      "image/png": "[encoded data removed]",
      "text/plain": [
       "<Figure size 1152x432 with 1 Axes>"
      ]
     },
     "metadata": {},
     "output_type": "display_data"
    }
   ],
   "source": [
    "Arrest_prop = df.dropna(how='any')\n",
    "plotdata = Arrest_prop.Arrest.groupby(Arrest_prop.District).value_counts()\n",
    "Dist_index=[]\n",
    "[Dist_index.append(x) for (x,y) in plotdata.index.to_list() if x not in Dist_index]\n",
    "falseval = [0 if (x,False) not in plotdata.index.to_list() else plotdata[(x,False)] for x in Dist_index]\n",
    "trueval = [0 if (x,True) not in plotdata.index.to_list() else plotdata[(x,True)] for x in Dist_index]\n",
    "r=list(range(len(trueval)))\n",
    "totals = [i+j for i,j in zip(trueval,falseval)]\n",
    "trueBars = [i / j * 100 for i,j in zip(trueval, totals)]\n",
    "falseBars = [i / j * 100 for i,j in zip(falseval, totals)]\n",
    "#Dist_index=[str(x).replace('.0','') for x in Dist_index]\n",
    "barwidth = 0.8\n",
    "plt.figure(figsize=(16,6))\n",
    "plt.bar(r, falseBars, color='yellow', edgecolor='white', width=barwidth)\n",
    "plt.bar(r, trueBars, bottom=falseBars, color='red', edgecolor='white', width=barwidth)\n",
    "plt.xticks(r, Dist_index)\n",
    "plt.xlabel(\"Districts\")\n",
    "plt.legend(['%Not Arrested', '%Arrest'], loc='upper right', bbox_to_anchor=(1.2,0.7))\n",
    "\n",
    "plt.show()\n",
    " \n"
   ]
  },
  {
   "cell_type": "markdown",
   "metadata": {},
   "source": [
    "## Time Analysis\n",
    "Now lets begin with the time analysis of the data. Columns like `Date`, `Year`, `Month` and `DayOfWeek` give information regarding the time at which a particular theft occured."
   ]
  },
  {
   "cell_type": "markdown",
   "metadata": {},
   "source": [
    "### What is the trend in number of cases over the years?"
   ]
  },
  {
   "cell_type": "code",
   "execution_count": 48,
   "metadata": {},
   "outputs": [
    {
     "data": {
      "text/plain": [
       "<matplotlib.axes._subplots.AxesSubplot at 0x7f7a71dd6780>"
      ]
     },
     "execution_count": 48,
     "metadata": {},
     "output_type": "execute_result"
    },
    {
     "data": {
      "image/png": "[encoded data removed]",
      "text/plain": [
       "<Figure size 432x288 with 1 Axes>"
      ]
     },
     "metadata": {},
     "output_type": "display_data"
    }
   ],
   "source": [
    "sns.distplot(df.loc[df.Arrest==True, \"Year\"])"
   ]
  },
  {
   "cell_type": "markdown",
   "metadata": {},
   "source": [
    "It is clearly visible that the number of cases are on a decline over the years. The police is really doing a good job!"
   ]
  },
  {
   "cell_type": "markdown",
   "metadata": {},
   "source": [
    "### What are the most unsafe month and day of the week?"
   ]
  },
  {
   "cell_type": "code",
   "execution_count": 37,
   "metadata": {
    "scrolled": true
   },
   "outputs": [
    {
     "data": {
      "text/plain": [
       "<matplotlib.axes._subplots.AxesSubplot at 0x7f7a711117f0>"
      ]
     },
     "execution_count": 37,
     "metadata": {},
     "output_type": "execute_result"
    },
    {
     "data": {
      "image/png": "[encoded data removed]",
      "text/plain": [
       "<Figure size 864x432 with 1 Axes>"
      ]
     },
     "metadata": {
      "needs_background": "light"
     },
     "output_type": "display_data"
    }
   ],
   "source": []
  },
  {
   "cell_type": "code",
   "execution_count": 38,
   "metadata": {},
   "outputs": [
    {
     "data": {
      "text/plain": [
       "0"
      ]
     },
     "execution_count": 38,
     "metadata": {},
     "output_type": "execute_result"
    }
   ],
   "source": [
    "df.Date.isna().sum()"
   ]
  },
  {
   "cell_type": "code",
   "execution_count": 39,
   "metadata": {},
   "outputs": [
    {
     "data": {
      "text/plain": [
       "4    29284\n",
       "2    27416\n",
       "0    27397\n",
       "3    27319\n",
       "5    27118\n",
       "1    26791\n",
       "6    26316\n",
       "Name: Date, dtype: int64"
      ]
     },
     "execution_count": 39,
     "metadata": {},
     "output_type": "execute_result"
    }
   ],
   "source": [
    "df.Date.dt.dayofweek.value_counts()"
   ]
  },
  {
   "cell_type": "code",
   "execution_count": 40,
   "metadata": {},
   "outputs": [
    {
     "ename": "SyntaxError",
     "evalue": "invalid syntax (<ipython-input-40-27b9c3c77323>, line 1)",
     "output_type": "error",
     "traceback": [
      "\u001b[0;36m  File \u001b[0;32m\"<ipython-input-40-27b9c3c77323>\"\u001b[0;36m, line \u001b[0;32m1\u001b[0m\n\u001b[0;31m    yearly_thefts = df.Date.dt..value_counts()\u001b[0m\n\u001b[0m                               ^\u001b[0m\n\u001b[0;31mSyntaxError\u001b[0m\u001b[0;31m:\u001b[0m invalid syntax\n"
     ]
    }
   ],
   "source": [
    "yearly_thefts = df.Date.dt..value_counts()\n",
    "sns.lineplot(x=yearly_thefts.index, y=yearly_thefts.values)"
   ]
  },
  {
   "cell_type": "code",
   "execution_count": 42,
   "metadata": {},
   "outputs": [
    {
     "data": {
      "text/plain": [
       "Year  Arrest\n",
       "2001  False     0.895883\n",
       "      True      0.104117\n",
       "2002  False     0.887218\n",
       "      True      0.112782\n",
       "2003  False     0.892057\n",
       "      True      0.107943\n",
       "2004  False     0.899597\n",
       "      True      0.100403\n",
       "2005  False     0.907304\n",
       "      True      0.092696\n",
       "2006  False     0.919120\n",
       "      True      0.080880\n",
       "2007  False     0.915126\n",
       "      True      0.084874\n",
       "2008  False     0.929387\n",
       "      True      0.070613\n",
       "2009  False     0.930961\n",
       "      True      0.069039\n",
       "2010  False     0.954765\n",
       "      True      0.045235\n",
       "2011  False     0.960031\n",
       "      True      0.039969\n",
       "2012  False     0.960971\n",
       "      True      0.039029\n",
       "dtype: float64"
      ]
     },
     "execution_count": 42,
     "metadata": {},
     "output_type": "execute_result"
    }
   ],
   "source": [
    "proportions = df.groupby(['Year', 'Arrest'])['Arrest'].count()/df.groupby(['Year'])['Year'].count()\n",
    "proportions\n"
   ]
  },
  {
   "cell_type": "code",
   "execution_count": 43,
   "metadata": {},
   "outputs": [
    {
     "data": {
      "text/plain": [
       "STREET                            156564\n",
       "PARKING LOT/GARAGE(NON.RESID.)     14852\n",
       "ALLEY                               2308\n",
       "GAS STATION                         2111\n",
       "DRIVEWAY - RESIDENTIAL              1675\n",
       "Name: LocationDescription, dtype: int64"
      ]
     },
     "execution_count": 43,
     "metadata": {},
     "output_type": "execute_result"
    }
   ],
   "source": [
    "toplocation = df.LocationDescription.value_counts().drop(labels='OTHER')\n",
    "toplocation.head(5)"
   ]
  },
  {
   "cell_type": "code",
   "execution_count": 44,
   "metadata": {},
   "outputs": [],
   "source": [
    "top_locations = toplocation.head(5).index.to_list()\n",
    "top5 = df.loc[df.LocationDescription.isin(top_locations), :]\n"
   ]
  },
  {
   "cell_type": "code",
   "execution_count": 45,
   "metadata": {},
   "outputs": [
    {
     "data": {
      "text/plain": [
       "<matplotlib.axes._subplots.AxesSubplot at 0x7f7a732fea58>"
      ]
     },
     "execution_count": 45,
     "metadata": {},
     "output_type": "execute_result"
    },
    {
     "data": {
      "image/png": "[encoded data removed]",
      "text/plain": [
       "<Figure size 864x432 with 1 Axes>"
      ]
     },
     "metadata": {},
     "output_type": "display_data"
    }
   ],
   "source": [
    "plt.figure(figsize=(12,6))\n",
    "sns.set_style(\"whitegrid\")\n",
    "sns.countplot(x=df.loc[df.LocationDescription=='GAS STATION',:].Date.dt.dayofweek, color='b')"
   ]
  },
  {
   "cell_type": "code",
   "execution_count": 46,
   "metadata": {},
   "outputs": [
    {
     "data": {
      "text/plain": [
       "191641"
      ]
     },
     "execution_count": 46,
     "metadata": {},
     "output_type": "execute_result"
    }
   ],
   "source": [
    "df.Date.dt.dayofweek.value_counts().sum()"
   ]
  },
  {
   "cell_type": "code",
   "execution_count": 174,
   "metadata": {},
   "outputs": [
    {
     "data": {
      "text/plain": [
       "<matplotlib.axes._subplots.AxesSubplot at 0x7f97948f3be0>"
      ]
     },
     "execution_count": 174,
     "metadata": {},
     "output_type": "execute_result"
    },
    {
     "data": {
      "image/png": "[encoded data removed]",
      "text/plain": [
       "<Figure size 864x432 with 1 Axes>"
      ]
     },
     "metadata": {},
     "output_type": "display_data"
    }
   ],
   "source": [
    "plt.figure(figsize=(12,6))\n",
    "sns.set_style(\"whitegrid\")\n",
    "sns.countplot(x=df.Date.dt.dayofweek, data =df, color='b')"
   ]
  }
 ],
 "metadata": {
  "kernelspec": {
   "display_name": "Python 3",
   "language": "python",
   "name": "python3"
  },
  "language_info": {
   "codemirror_mode": {
    "name": "ipython",
    "version": 3
   },
   "file_extension": ".py",
   "mimetype": "text/x-python",
   "name": "python",
   "nbconvert_exporter": "python",
   "pygments_lexer": "ipython3",
   "version": "3.7.3"
  }
 },
 "nbformat": 4,
 "nbformat_minor": 4
}
